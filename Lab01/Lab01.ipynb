{
 "cells": [
  {
   "cell_type": "markdown",
   "id": "d00a0c66-796e-42af-8aa9-88ce1fb9d358",
   "metadata": {},
   "source": [
    "# Lab 01 - NumPy Introduction\n",
    "We start by downloading these datasets:\n",
    "- Iris: 150 flowers ×5 columns (4 numeric features + species label).  \n",
    "- MNIST: A 10k-row subset (test split) with the first column as label (0–9) and 784 pixel columns (28×28)."
   ]
  },
  {
   "cell_type": "code",
   "execution_count": 1,
   "id": "77e651c6-1c69-4364-be24-97d71fbabf02",
   "metadata": {},
   "outputs": [
    {
     "name": "stdout",
     "output_type": "stream",
     "text": [
      "zsh:1: command not found: wget\n"
     ]
    }
   ],
   "source": [
    "!wget \"https://archive.ics.uci.edu/ml/machine-learning-databases/iris/iris.data\" -O iris.csv"
   ]
  },
  {
   "cell_type": "code",
   "execution_count": 2,
   "id": "eba47f5f-2f8d-4ffe-bc69-7a9b2d95ead2",
   "metadata": {},
   "outputs": [
    {
     "name": "stdout",
     "output_type": "stream",
     "text": [
      "zsh:1: command not found: wget\n"
     ]
    }
   ],
   "source": [
    "!wget \"https://raw.githubusercontent.com/dbdmg/data-science-lab/master/datasets/mnist_test.csv\" -O mnist_test.csv"
   ]
  },
  {
   "cell_type": "code",
   "execution_count": 3,
   "id": "0affc63b-a190-41e8-b2bc-3c14f00906d1",
   "metadata": {},
   "outputs": [],
   "source": [
    "import numpy as np"
   ]
  },
  {
   "cell_type": "markdown",
   "id": "71d3fb30-3340-4f87-8fd9-08253a3bee11",
   "metadata": {},
   "source": [
    "# Warm-up with Numpy\n",
    "## Array creation and attributes"
   ]
  },
  {
   "cell_type": "code",
   "execution_count": 4,
   "id": "63b32ebe-ef7a-438b-a290-9133389f0d11",
   "metadata": {},
   "outputs": [
    {
     "name": "stdout",
     "output_type": "stream",
     "text": [
      "2 (2, 3) 6 int64\n"
     ]
    }
   ],
   "source": [
    "# array manual definition and key attributes\n",
    "A0 = np.array([[2,3,7],[9,4,5]]) \n",
    "A1 = np.array([[4,9],[5,6],[1,7]])\n",
    "print(A0.ndim, A0.shape, A1.size, A1.dtype)"
   ]
  },
  {
   "cell_type": "code",
   "execution_count": 5,
   "id": "fc9cf1da-ab13-4d93-9bf3-619c31fc0b65",
   "metadata": {},
   "outputs": [],
   "source": [
    "# array definition using built-in functions\n",
    "B0= np.zeros((2,3))\n",
    "B1= np.ones((4,2),dtype=np.float32)\n",
    "B2= np.full((2,3),3)"
   ]
  },
  {
   "cell_type": "code",
   "execution_count": 6,
   "id": "d11ade58-02b1-47db-b9db-d7b97f833e39",
   "metadata": {},
   "outputs": [],
   "source": [
    "# array definition using sequences\n",
    "C0= np.linspace(3,10,4)\n",
    "C1= np.arange(2,8,2)"
   ]
  },
  {
   "cell_type": "markdown",
   "id": "774182b9-9a42-4723-a894-c7307a97eb6f",
   "metadata": {},
   "source": [
    "## Universal functions, aggregations and sorting"
   ]
  },
  {
   "cell_type": "code",
   "execution_count": 7,
   "id": "1e165a5d-286c-4c59-8c4d-8bef1352cb73",
   "metadata": {},
   "outputs": [
    {
     "name": "stdout",
     "output_type": "stream",
     "text": [
      "[[ 5  6 10]\n",
      " [12  7  8]]\n",
      "[[1. 1. 1.]\n",
      " [1. 1. 1.]]\n",
      "[1.73205081 2.30940108 2.76887462 3.16227766]\n",
      "[[5.45981500e+01 8.10308393e+03]\n",
      " [1.48413159e+02 4.03428793e+02]\n",
      " [2.71828183e+00 1.09663316e+03]]\n",
      "[0.30103    0.60205999 0.77815125]\n"
     ]
    }
   ],
   "source": [
    "# basic operations + ufunc\n",
    "print(A0+B2, B2**B0, np.sqrt(C0),np.exp(A1),np.log10(C1), sep='\\n')\n"
   ]
  },
  {
   "cell_type": "code",
   "execution_count": 8,
   "id": "f1e50fde-dd78-4cd7-aa66-99375acad24d",
   "metadata": {},
   "outputs": [
    {
     "name": "stdout",
     "output_type": "stream",
     "text": [
      "5.0 [4. 6.] 2.6087459737497545 12 [13 11  8]\n"
     ]
    }
   ],
   "source": [
    "# aggregations and axis behaviors\n",
    "print(A0.mean(), A0.mean(axis=1), C0.std(), C1.sum(), A1.sum(axis=1))"
   ]
  },
  {
   "cell_type": "code",
   "execution_count": 9,
   "id": "209080b2-b3cc-4483-a009-7f545fe6e674",
   "metadata": {},
   "outputs": [
    {
     "name": "stdout",
     "output_type": "stream",
     "text": [
      "[[2 3 7]\n",
      " [4 5 9]]\n",
      "[[2 3 5]\n",
      " [9 4 7]]\n",
      "[[0 1 2]\n",
      " [1 2 0]]\n"
     ]
    }
   ],
   "source": [
    "# sorting and ranking\n",
    "print(np.sort(A0), np.sort(A0,axis=-2), np.argsort(A0),sep='\\n')"
   ]
  },
  {
   "cell_type": "markdown",
   "id": "87859791-18cf-45e2-b95f-0bdb2f6435b8",
   "metadata": {},
   "source": [
    "## Broadcasting"
   ]
  },
  {
   "cell_type": "code",
   "execution_count": 10,
   "id": "3620aa8f-0a41-4d0d-90fc-c064f2d5ea0f",
   "metadata": {},
   "outputs": [
    {
     "name": "stdout",
     "output_type": "stream",
     "text": [
      "[[0.         0.14285714 0.71428571]\n",
      " [1.         0.28571429 0.42857143]]\n"
     ]
    }
   ],
   "source": [
    "# column-wise normalization\n",
    "print((A0-A0.min())/(A0.max()-A0.min()))"
   ]
  },
  {
   "cell_type": "markdown",
   "id": "fa067cc1-3b68-4972-a4ce-e60a1327078b",
   "metadata": {},
   "source": [
    "## Indexing"
   ]
  },
  {
   "cell_type": "code",
   "execution_count": 11,
   "id": "a8cc7785-d2f5-4ea1-941c-9d898aa2f39f",
   "metadata": {},
   "outputs": [
    {
     "name": "stdout",
     "output_type": "stream",
     "text": [
      "[[1 2]\n",
      " [5 6]] (2, 2) [[ 3  4]\n",
      " [ 7  8]\n",
      " [11 12]] (3, 2)\n"
     ]
    }
   ],
   "source": [
    "# slicing submatrices\n",
    "D = np.arange(1, 13).reshape(3, 4)\n",
    "D_block=D[:2,:2] #creates a view, not a copy\n",
    "D_columns=D[:,-2:]\n",
    "print(D_block, D_block.shape, D_columns, D_columns.shape)"
   ]
  },
  {
   "cell_type": "code",
   "execution_count": 12,
   "id": "ca74f600-d450-4581-8b64-be2cc370b554",
   "metadata": {},
   "outputs": [
    {
     "data": {
      "text/plain": [
       "array([[ 1,  2,  3,  4],\n",
       "       [ 5,  6, -1, -1],\n",
       "       [-1, -1, -1, -1]])"
      ]
     },
     "execution_count": 12,
     "metadata": {},
     "output_type": "execute_result"
    }
   ],
   "source": [
    "# masked arrays\n",
    "D[D>6]=-1\n",
    "D"
   ]
  },
  {
   "cell_type": "code",
   "execution_count": 13,
   "id": "dc95c7a5-83a3-4d5c-9cf5-925340b14d17",
   "metadata": {},
   "outputs": [
    {
     "data": {
      "text/plain": [
       "array([[ 1,  2,  3,  4],\n",
       "       [ 5,  6, -1,  8]])"
      ]
     },
     "execution_count": 13,
     "metadata": {},
     "output_type": "execute_result"
    }
   ],
   "source": [
    "# views vs copies\n",
    "D_new=D[:2,:].copy()\n",
    "D_new[1,3]=8\n",
    "D_new"
   ]
  },
  {
   "cell_type": "code",
   "execution_count": 14,
   "id": "f1b51a3c-d6dc-4ba8-881e-799d419fc4bd",
   "metadata": {},
   "outputs": [
    {
     "name": "stdout",
     "output_type": "stream",
     "text": [
      "[[ 2  4]\n",
      " [-1 -1]] (2, 2)\n"
     ]
    }
   ],
   "source": [
    "# fancy indexing\n",
    "D_fancy=D[::2,[1,3]]\n",
    "print(D_fancy, D_fancy.shape)"
   ]
  },
  {
   "cell_type": "markdown",
   "id": "330e651e-5b81-4558-b133-fe46b82581c0",
   "metadata": {},
   "source": [
    "# Iris Dataset with NumPy\n",
    "## Feature extraction and statistical analysis"
   ]
  },
  {
   "cell_type": "code",
   "execution_count": 15,
   "id": "45d4c2d5-0e80-4bc8-aa1b-0c821c8ad7db",
   "metadata": {},
   "outputs": [],
   "source": [
    "# Dataset settings\n",
    "X=np.genfromtxt('iris.csv', delimiter=',', usecols=(0,1,2,3), dtype=float)\n",
    "y=np.genfromtxt('iris.csv', delimiter=',', usecols=4, dtype=str)"
   ]
  },
  {
   "cell_type": "code",
   "execution_count": 16,
   "id": "a02fb406-a5eb-450b-a5a3-0bc0efe6ea3f",
   "metadata": {},
   "outputs": [
    {
     "name": "stdout",
     "output_type": "stream",
     "text": [
      "(150, 4) float64 (150,) <U15\n"
     ]
    }
   ],
   "source": [
    "# verify shapes and dtypes\n",
    "print(X.shape, X.dtype, y.shape, y.dtype)"
   ]
  },
  {
   "cell_type": "code",
   "execution_count": 17,
   "id": "54de6bf4-708d-4cdb-826f-e4718210a623",
   "metadata": {},
   "outputs": [
    {
     "name": "stdout",
     "output_type": "stream",
     "text": [
      "Tot Mean Sepal length 5.843333333333334 Tot Std Dev Sepal length 0.8253012917851409\n",
      "Tot Mean Sepal width 3.0540000000000003 Tot Std Dev Sepal width 0.4321465800705435\n",
      "Tot Mean Petal length 3.758666666666666 Tot Std Dev Petal length 1.7585291834055212\n",
      "Tot Mean Petal width 1.1986666666666668 Tot Std Dev Petal width 0.7606126185881716\n"
     ]
    }
   ],
   "source": [
    "# global statistics\n",
    "features=['Sepal length', 'Sepal width', 'Petal length', 'Petal width']\n",
    "for i in range (0,4):\n",
    "    print(f'Tot Mean {features[i]}', np.mean(X[:,i]),f'Tot Std Dev {features[i]}', np.std(X[:,i]))\n",
    "    "
   ]
  },
  {
   "cell_type": "code",
   "execution_count": 18,
   "id": "c50c7122-fc69-477e-aa8d-5ee033cbc615",
   "metadata": {},
   "outputs": [
    {
     "name": "stdout",
     "output_type": "stream",
     "text": [
      "Iris-setosa Means: [5.006 3.418 1.464 0.244] Iris-setosa Std Devs: [0.34894699 0.37719491 0.17176728 0.10613199]\n",
      "Iris-versicolor Means: [5.936 2.77  4.26  1.326] Iris-versicolor Std Devs: [0.51098337 0.31064449 0.46518813 0.19576517]\n",
      "Iris-virginica Means: [6.588 2.974 5.552 2.026] Iris-virginica Std Devs: [0.62948868 0.31925538 0.54634787 0.27188968]\n"
     ]
    }
   ],
   "source": [
    "# statistics analysis by species\n",
    "species = np.unique(y)\n",
    "means_mat=np.zeros((len(species),X.shape[1]))\n",
    "for i,sp in enumerate(species):\n",
    "    mask= (y==sp) \n",
    "    class_means= np.mean(X[mask],axis=0)\n",
    "    class_stds= np.std(X[mask],axis=0)\n",
    "    print(f'{sp} Means:', class_means, f'{sp} Std Devs:', class_stds)\n",
    "    means_mat[i,:]=class_means"
   ]
  },
  {
   "cell_type": "markdown",
   "id": "6c3605d8-656b-4a72-91d3-a0aa4660c427",
   "metadata": {},
   "source": [
    "## Feature standardization"
   ]
  },
  {
   "cell_type": "code",
   "execution_count": 19,
   "id": "aefe05c3-b354-418f-ab17-d499ae0e2c25",
   "metadata": {},
   "outputs": [
    {
     "data": {
      "text/plain": [
       "(150, 4)"
      ]
     },
     "execution_count": 19,
     "metadata": {},
     "output_type": "execute_result"
    }
   ],
   "source": [
    "Z=((X-np.mean(X,axis=0))/np.std(X,axis=0))\n",
    "Z.shape"
   ]
  },
  {
   "cell_type": "markdown",
   "id": "812293c4-f569-4b42-a565-bb4afb72bcc9",
   "metadata": {},
   "source": [
    "## Naïve single-feature classifier"
   ]
  },
  {
   "cell_type": "code",
   "execution_count": 20,
   "id": "dfa51cc9-f21f-4cfb-9893-5a3d753c8211",
   "metadata": {},
   "outputs": [
    {
     "name": "stdout",
     "output_type": "stream",
     "text": [
      "Best separating feature index: Petal length (index 2)\n"
     ]
    }
   ],
   "source": [
    "# find most discriminative feature\n",
    "diff_01 = np.abs(means_mat[0] - means_mat[1])  # setosa - versicolor\n",
    "diff_02 = np.abs(means_mat[0] - means_mat[2])  # setosa - virginica\n",
    "diff_12 = np.abs(means_mat[1] - means_mat[2])  # versicolor - virginica\n",
    "\n",
    "all_diffs = np.vstack([diff_01, diff_02, diff_12])\n",
    "min_diffs = np.min(all_diffs, axis=0)\n",
    "best_feature = np.argmax(min_diffs)\n",
    "print(f\"Best separating feature index: {features[best_feature]} (index {best_feature})\")"
   ]
  },
  {
   "cell_type": "code",
   "execution_count": 21,
   "id": "5affd272-27fe-47fa-9931-b0378cf7390f",
   "metadata": {},
   "outputs": [],
   "source": [
    "# define decision threshold\n",
    "selected_sorted=np.sort(means_mat[:,best_feature])\n",
    "thresholds = (selected_sorted[1:] + selected_sorted[:-1]) / 2"
   ]
  },
  {
   "cell_type": "code",
   "execution_count": 22,
   "id": "bd4d8795-c548-49b2-9700-86c764f2e7b5",
   "metadata": {},
   "outputs": [
    {
     "name": "stdout",
     "output_type": "stream",
     "text": [
      "Accuracy: 0.947\n"
     ]
    }
   ],
   "source": [
    "# Implement the classification rule\n",
    "x_feat = X[:, best_feature]\n",
    "\n",
    "def predict_classes(values, thresholds, species):\n",
    "    preds = np.zeros(values.shape, dtype=object)\n",
    "    preds[values < thresholds[0]] = species[0]\n",
    "    preds[(values >= thresholds[0]) & (values < thresholds[1])] = species[1]\n",
    "    preds[values >= thresholds[1]] = species[2]\n",
    "    return preds\n",
    "\n",
    "y_pred = predict_classes(x_feat, thresholds, species)\n",
    "accuracy = np.mean(y_pred == y)\n",
    "print(f\"Accuracy: {accuracy:.3f}\")"
   ]
  },
  {
   "cell_type": "markdown",
   "id": "8c0331a9-3c05-453c-a761-5044ef6f4ad5",
   "metadata": {},
   "source": [
    "# MNIST Dataset with NumPy\n",
    "## Loading and prepare the data"
   ]
  },
  {
   "cell_type": "code",
   "execution_count": 23,
   "id": "6a1d091c-07ed-4446-9582-674b97bd9674",
   "metadata": {},
   "outputs": [
    {
     "name": "stdout",
     "output_type": "stream",
     "text": [
      "(10000, 784) (10000,)\n"
     ]
    }
   ],
   "source": [
    "X_1=np.genfromtxt('mnist_test.csv', delimiter=',', usecols=range(1,785), dtype=np.uint8)\n",
    "y_1=np.genfromtxt('mnist_test.csv', delimiter=',', usecols=0, dtype=np.uint8)\n",
    "print(X_1.shape,y_1.shape)"
   ]
  },
  {
   "cell_type": "markdown",
   "id": "eca078b4-a0ed-4688-a9c7-b13195d32934",
   "metadata": {},
   "source": [
    "## Visual inspection of samples"
   ]
  },
  {
   "cell_type": "code",
   "execution_count": 24,
   "id": "4638df3f-8311-48f7-8421-72967f1c983c",
   "metadata": {},
   "outputs": [
    {
     "name": "stdout",
     "output_type": "stream",
     "text": [
      "                            \n",
      "                            \n",
      "                            \n",
      "                            \n",
      "                            \n",
      "          .*****..          \n",
      "        .####...*##.        \n",
      "      *###*      .##.       \n",
      "     *##.         ##.       \n",
      "      .           ##*       \n",
      "                  ###       \n",
      "                 .###       \n",
      "                 ###.       \n",
      "                *###        \n",
      "                ###.        \n",
      "              .*##*         \n",
      "           *#######*.       \n",
      "        *#########*###.     \n",
      "      .#########.   .##*    \n",
      "     .########*       .##   \n",
      "     ########*         **   \n",
      "     *#####*.               \n",
      "       ...                  \n",
      "                            \n",
      "                            \n",
      "                            \n",
      "                            \n",
      "                            \n"
     ]
    }
   ],
   "source": [
    "# reshaping some images\n",
    "S_1=X_1[10].reshape(28,28)\n",
    "S_2=X_1[888].reshape(28,28)\n",
    "S_3=X_1[7654].reshape(28,28)\n",
    "\n",
    "def pixel_to_char_grid(image_28x28):\n",
    "    char_grid = np.empty((28,28), dtype=str)\n",
    "\n",
    "    char_grid[(image_28x28 >= 0) & (image_28x28 < 64)] = \" \"\n",
    "    char_grid[(image_28x28 >= 64) & (image_28x28 < 128)] = \".\"\n",
    "    char_grid[(image_28x28 >= 128) & (image_28x28 < 192)] = \"*\"\n",
    "    char_grid[(image_28x28 >= 192) & (image_28x28 < 256)] = \"#\"\n",
    "    \n",
    "    for row in char_grid:\n",
    "        print(\"\".join(row))\n",
    "pixel_to_char_grid(S_2)\n"
   ]
  },
  {
   "cell_type": "markdown",
   "id": "35f85874-5b6e-4357-99ab-f08cfc22a532",
   "metadata": {},
   "source": [
    "## Pixel frequency comparison by class"
   ]
  },
  {
   "cell_type": "code",
   "execution_count": 25,
   "id": "e36e0557-429a-4fe7-bfd1-7ca42e50de55",
   "metadata": {},
   "outputs": [
    {
     "name": "stdout",
     "output_type": "stream",
     "text": [
      "Pixel con differenza massima: 154\n",
      "Valore differenza massima: 701\n"
     ]
    }
   ],
   "source": [
    "# build class masks\n",
    "mask2 = (y_1==2)\n",
    "mask7 = (y_1==7)\n",
    "X_digit2=X_1[mask2]\n",
    "X_digit7=X_1[mask7]\n",
    "\n",
    "# count pixel activations\n",
    "threshold = 128\n",
    "\n",
    "active_count_2 = (X_digit2 > threshold).sum(axis=0)\n",
    "active_count_7 = (X_digit7 > threshold).sum(axis=0)\n",
    "\n",
    "# Comparing pixel distributions\n",
    "diff = np.abs(active_count_2 - active_count_7)\n",
    "\n",
    "max_diff_pos = np.argmax(diff)\n",
    "max_diff_value = diff[max_diff_pos]\n",
    "\n",
    "print(\"Pixel con differenza massima:\", max_diff_pos)\n",
    "print(\"Valore differenza massima:\", max_diff_value)"
   ]
  },
  {
   "cell_type": "markdown",
   "id": "2e468b83-88f8-4816-a734-c12afa76355e",
   "metadata": {},
   "source": [
    "## Pairwise distance analysis"
   ]
  },
  {
   "cell_type": "code",
   "execution_count": 26,
   "id": "dd57100f-7431-4fcb-b247-11181802a36b",
   "metadata": {},
   "outputs": [],
   "source": [
    "# selecting samples\n",
    "sample0=X_1[3,:]\n",
    "sample1=X_1[5,:]\n",
    "sample2=X_1[2,:]\n",
    "sample3=X_1[0,:]\n",
    "\n",
    "V = np.vstack([sample0, sample1, sample2, sample3])"
   ]
  },
  {
   "cell_type": "code",
   "execution_count": 27,
   "id": "93ad1030-75c0-4d0d-ae87-7fc071ffab1f",
   "metadata": {},
   "outputs": [],
   "source": [
    "# computing distances\n",
    "n = V.shape[0]\n",
    "norms = np.sum(V**2, axis=1)\n",
    "dot_products = V @ V.T\n",
    "D = norms[:, None] + norms[None, :] - 2 * dot_products"
   ]
  },
  {
   "cell_type": "code",
   "execution_count": 28,
   "id": "b6f3a56a-9e4d-4246-887d-58bfe2aa8d8d",
   "metadata": {},
   "outputs": [
    {
     "name": "stdout",
     "output_type": "stream",
     "text": [
      "Euclidean distances matrix:\n",
      "[[26112 18077 17795 22502]\n",
      " [18077 10240  9744 14621]\n",
      " [17795  9744  9472 14217]\n",
      " [22502 14621 14217 18944]]\n",
      "Most similar couple: indexes (1, 2) with distance 9744\n"
     ]
    }
   ],
   "source": [
    "# interpreting distance matrix\n",
    "print(\"Euclidean distances matrix:\")\n",
    "print(D)\n",
    "\n",
    "Dn = D.shape[0]\n",
    "min_dist = None\n",
    "min_pair = (None, None)\n",
    "\n",
    "for i in range(n):\n",
    "    for j in range(n):\n",
    "        if i != j: \n",
    "            if (min_dist is None) or (D[i, j] < min_dist):\n",
    "                min_dist = D[i, j]\n",
    "                min_pair = (i, j)\n",
    "\n",
    "print(f\"Most similar couple: indexes {min_pair} with distance {min_dist}\")"
   ]
  }
 ],
 "metadata": {
  "kernelspec": {
   "display_name": "Python 3 (ipykernel)",
   "language": "python",
   "name": "python3"
  },
  "language_info": {
   "codemirror_mode": {
    "name": "ipython",
    "version": 3
   },
   "file_extension": ".py",
   "mimetype": "text/x-python",
   "name": "python",
   "nbconvert_exporter": "python",
   "pygments_lexer": "ipython3",
   "version": "3.10.18"
  }
 },
 "nbformat": 4,
 "nbformat_minor": 5
}
