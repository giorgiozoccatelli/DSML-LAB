{
 "cells": [
  {
   "cell_type": "markdown",
   "id": "fa4adfcb-eb48-4f34-8b15-ccac802c5b36",
   "metadata": {},
   "source": [
    "# Lab03 - Build Your Own Classifier\n",
    "We start by importing 3 datasets:\n",
    "- Iris dataset\n",
    "- MNIST dataset\n",
    "- Ames Housing"
   ]
  },
  {
   "cell_type": "code",
   "execution_count": 1,
   "id": "86a541e9-136e-4a64-88ab-92923bb2ebaa",
   "metadata": {},
   "outputs": [
    {
     "name": "stdout",
     "output_type": "stream",
     "text": [
      "  % Total    % Received % Xferd  Average Speed   Time    Time     Time  Current\n",
      "                                 Dload  Upload   Total   Spent    Left  Speed\n",
      "100  4551    0  4551    0     0   8121      0 --:--:-- --:--:-- --:--:--  8112\n"
     ]
    }
   ],
   "source": [
    "!curl -L https://archive.ics.uci.edu/ml/machine-learning-databases/iris/iris.data -o iris.csv"
   ]
  },
  {
   "cell_type": "code",
   "execution_count": 2,
   "id": "51140358-3c92-4737-9bd9-a2d1611d77a9",
   "metadata": {},
   "outputs": [
    {
     "name": "stdout",
     "output_type": "stream",
     "text": [
      "  % Total    % Received % Xferd  Average Speed   Time    Time     Time  Current\n",
      "                                 Dload  Upload   Total   Spent    Left  Speed\n",
      "100 17.4M  100 17.4M    0     0  1256k      0  0:00:14  0:00:14 --:--:-- 1460k\n"
     ]
    }
   ],
   "source": [
    "!curl -L https://raw.githubusercontent.com/dbdmg/data-science-lab/master/datasets/mnist_test.csv -o mnist_test.csv"
   ]
  },
  {
   "cell_type": "code",
   "execution_count": 3,
   "id": "8f755550-5cf5-44bb-826a-83ae767bc5cc",
   "metadata": {
    "scrolled": true
   },
   "outputs": [
    {
     "name": "stdout",
     "output_type": "stream",
     "text": [
      "Requirement already satisfied: kaggle in /Users/giorgiozoccatelli/miniforge3/envs/data/lib/python3.10/site-packages (1.7.4.5)\n",
      "Requirement already satisfied: bleach in /Users/giorgiozoccatelli/miniforge3/envs/data/lib/python3.10/site-packages (from kaggle) (6.2.0)\n",
      "Requirement already satisfied: certifi>=14.05.14 in /Users/giorgiozoccatelli/miniforge3/envs/data/lib/python3.10/site-packages (from kaggle) (2025.8.3)\n",
      "Requirement already satisfied: charset-normalizer in /Users/giorgiozoccatelli/miniforge3/envs/data/lib/python3.10/site-packages (from kaggle) (3.4.3)\n",
      "Requirement already satisfied: idna in /Users/giorgiozoccatelli/miniforge3/envs/data/lib/python3.10/site-packages (from kaggle) (3.10)\n",
      "Requirement already satisfied: protobuf in /Users/giorgiozoccatelli/miniforge3/envs/data/lib/python3.10/site-packages (from kaggle) (6.33.0)\n",
      "Requirement already satisfied: python-dateutil>=2.5.3 in /Users/giorgiozoccatelli/miniforge3/envs/data/lib/python3.10/site-packages (from kaggle) (2.9.0.post0)\n",
      "Requirement already satisfied: python-slugify in /Users/giorgiozoccatelli/miniforge3/envs/data/lib/python3.10/site-packages (from kaggle) (8.0.4)\n",
      "Requirement already satisfied: requests in /Users/giorgiozoccatelli/miniforge3/envs/data/lib/python3.10/site-packages (from kaggle) (2.32.5)\n",
      "Requirement already satisfied: setuptools>=21.0.0 in /Users/giorgiozoccatelli/miniforge3/envs/data/lib/python3.10/site-packages (from kaggle) (80.9.0)\n",
      "Requirement already satisfied: six>=1.10 in /Users/giorgiozoccatelli/miniforge3/envs/data/lib/python3.10/site-packages (from kaggle) (1.17.0)\n",
      "Requirement already satisfied: text-unidecode in /Users/giorgiozoccatelli/miniforge3/envs/data/lib/python3.10/site-packages (from kaggle) (1.3)\n",
      "Requirement already satisfied: tqdm in /Users/giorgiozoccatelli/miniforge3/envs/data/lib/python3.10/site-packages (from kaggle) (4.67.1)\n",
      "Requirement already satisfied: urllib3>=1.15.1 in /Users/giorgiozoccatelli/miniforge3/envs/data/lib/python3.10/site-packages (from kaggle) (2.5.0)\n",
      "Requirement already satisfied: webencodings in /Users/giorgiozoccatelli/miniforge3/envs/data/lib/python3.10/site-packages (from kaggle) (0.5.1)\n",
      "Dataset URL: https://www.kaggle.com/datasets/shashanknecrothapa/ames-housing-dataset\n",
      "License(s): unknown\n",
      "Downloading ames-housing-dataset.zip to /Users/giorgiozoccatelli/Documents/DSML-LAB/Lab03\n",
      "  0%|                                                | 0.00/185k [00:00<?, ?B/s]\n",
      "100%|█████████████████████████████████████████| 185k/185k [00:00<00:00, 283MB/s]\n",
      "Archive:  ames-housing-dataset.zip\n",
      "  inflating: AmesHousing.csv         \n"
     ]
    }
   ],
   "source": [
    "!pip install kaggle\n",
    "!kaggle datasets download shashanknecrothapa/ames-housing-dataset\n",
    "!unzip ames-housing-dataset.zip"
   ]
  },
  {
   "cell_type": "code",
   "execution_count": 4,
   "id": "9663fcba-0913-421b-9843-bf907a5146d9",
   "metadata": {},
   "outputs": [],
   "source": [
    "import pandas as pd\n",
    "import numpy as np\n",
    "import matplotlib.pyplot as plt"
   ]
  },
  {
   "cell_type": "markdown",
   "id": "8c1761df-efe7-4626-880d-7f645c664d55",
   "metadata": {},
   "source": [
    "## KNN Design and Implementation"
   ]
  },
  {
   "cell_type": "code",
   "execution_count": 8,
   "id": "951ca999-653f-4eda-a781-66ef548253e2",
   "metadata": {},
   "outputs": [
    {
     "data": {
      "text/html": [
       "<div>\n",
       "<style scoped>\n",
       "    .dataframe tbody tr th:only-of-type {\n",
       "        vertical-align: middle;\n",
       "    }\n",
       "\n",
       "    .dataframe tbody tr th {\n",
       "        vertical-align: top;\n",
       "    }\n",
       "\n",
       "    .dataframe thead th {\n",
       "        text-align: right;\n",
       "    }\n",
       "</style>\n",
       "<table border=\"1\" class=\"dataframe\">\n",
       "  <thead>\n",
       "    <tr style=\"text-align: right;\">\n",
       "      <th></th>\n",
       "      <th>sepal_length</th>\n",
       "      <th>sepal_width</th>\n",
       "      <th>petal_length</th>\n",
       "      <th>petal_width</th>\n",
       "      <th>species</th>\n",
       "    </tr>\n",
       "  </thead>\n",
       "  <tbody>\n",
       "    <tr>\n",
       "      <th>0</th>\n",
       "      <td>5.1</td>\n",
       "      <td>3.5</td>\n",
       "      <td>1.4</td>\n",
       "      <td>0.2</td>\n",
       "      <td>Iris-setosa</td>\n",
       "    </tr>\n",
       "    <tr>\n",
       "      <th>1</th>\n",
       "      <td>4.9</td>\n",
       "      <td>3.0</td>\n",
       "      <td>1.4</td>\n",
       "      <td>0.2</td>\n",
       "      <td>Iris-setosa</td>\n",
       "    </tr>\n",
       "    <tr>\n",
       "      <th>2</th>\n",
       "      <td>4.7</td>\n",
       "      <td>3.2</td>\n",
       "      <td>1.3</td>\n",
       "      <td>0.2</td>\n",
       "      <td>Iris-setosa</td>\n",
       "    </tr>\n",
       "    <tr>\n",
       "      <th>3</th>\n",
       "      <td>4.6</td>\n",
       "      <td>3.1</td>\n",
       "      <td>1.5</td>\n",
       "      <td>0.2</td>\n",
       "      <td>Iris-setosa</td>\n",
       "    </tr>\n",
       "    <tr>\n",
       "      <th>4</th>\n",
       "      <td>5.0</td>\n",
       "      <td>3.6</td>\n",
       "      <td>1.4</td>\n",
       "      <td>0.2</td>\n",
       "      <td>Iris-setosa</td>\n",
       "    </tr>\n",
       "  </tbody>\n",
       "</table>\n",
       "</div>"
      ],
      "text/plain": [
       "   sepal_length  sepal_width  petal_length  petal_width      species\n",
       "0           5.1          3.5           1.4          0.2  Iris-setosa\n",
       "1           4.9          3.0           1.4          0.2  Iris-setosa\n",
       "2           4.7          3.2           1.3          0.2  Iris-setosa\n",
       "3           4.6          3.1           1.5          0.2  Iris-setosa\n",
       "4           5.0          3.6           1.4          0.2  Iris-setosa"
      ]
     },
     "execution_count": 8,
     "metadata": {},
     "output_type": "execute_result"
    }
   ],
   "source": [
    "colonne = ['sepal_length', 'sepal_width', 'petal_length', 'petal_width', 'species']\n",
    "df_iris = pd.read_csv(\"iris.csv\", sep=\",\", names=colonne, header=None)\n",
    "df_iris.head()"
   ]
  },
  {
   "cell_type": "code",
   "execution_count": 27,
   "id": "e6c82174-0116-4666-bcfc-88e8d30343e0",
   "metadata": {},
   "outputs": [],
   "source": [
    "df_test = df_iris.sample(frac=0.2, random_state=42)  \n",
    "X_test = df_test[colonne[:-1]].values  \n",
    "y_test = df_test[colonne[-1]].values  \n",
    "\n",
    "indici_test = df_test.index\n",
    "df_train = df_iris.drop(indici_test)\n",
    "X_train = df_train[colonne[:-1]].values\n",
    "y_train = df_train[colonne[-1]].values"
   ]
  },
  {
   "cell_type": "code",
   "execution_count": 28,
   "id": "7c73a65b-5a5e-4728-8a5e-4dd39d46a214",
   "metadata": {},
   "outputs": [],
   "source": [
    "def euclidean_distance(p, q):\n",
    "    return np.sqrt(np.sum((p - q) ** 2))\n",
    "\n",
    "def cosine_distance(p, q):\n",
    "    dot_product = np.sum(p * q)\n",
    "    norm_p = np.sqrt(np.sum(p ** 2))\n",
    "    norm_q = np.sqrt(np.sum(q ** 2))\n",
    "    cosine_similarity = dot_product / (norm_p * norm_q)\n",
    "    return 1 - np.abs(cosine_similarity)\n",
    "\n",
    "def manhattan_distance(p, q):\n",
    "    return np.sum(np.abs(p - q))\n",
    "\n",
    "class KNearestNeighbors:\n",
    "    def __init__(self, k, distance_metric):\n",
    "        self.k = k\n",
    "        self.distance_metric = distance_metric\n",
    "\n",
    "    def fit(self, X, y):\n",
    "        self.X_train = X\n",
    "        self.y_train = y\n",
    "\n",
    "    def _compute_distance(self, p, q):\n",
    "        if self.distance_metric == \"euclidean\":\n",
    "            return euclidean_distance(p, q)\n",
    "        elif self.distance_metric == \"cosine\":\n",
    "            return cosine_distance(p, q)\n",
    "        elif self.distance_metric == \"manhattan\":\n",
    "            return manhattan_distance(p, q)\n",
    "        else:\n",
    "            raise ValueError(\"Unsupported distance metric!\")\n",
    "\n",
    "    def predict(self, X):\n",
    "        predictions = []\n",
    "        for x in X:\n",
    "            distances = np.array([self._compute_distance(x, train_x) for train_x in self.X_train])\n",
    "            neighbors_idx = np.argsort(distances)[:self.k]\n",
    "            neighbors_labels = self.y_train[neighbors_idx]\n",
    "            \n",
    "            unique_labels, counts = np.unique(neighbors_labels, return_counts=True)\n",
    "            max_count = np.max(counts)\n",
    "            \n",
    "            candidates = unique_labels[counts == max_count]\n",
    "    \n",
    "            predictions.append(candidates[0])\n",
    "        return np.array(predictions)"
   ]
  },
  {
   "cell_type": "code",
   "execution_count": 55,
   "id": "64534d46-9717-49e7-a4b4-2ac5e30ec9c7",
   "metadata": {},
   "outputs": [
    {
     "name": "stdout",
     "output_type": "stream",
     "text": [
      "Accuracy: 96.67%\n"
     ]
    }
   ],
   "source": [
    "knn = KNearestNeighbors(k=50, distance_metric=\"euclidean\")  \n",
    "knn.fit(X_train, y_train)\n",
    "\n",
    "y_pred = knn.predict(X_test)\n",
    "\n",
    "correct = np.sum(y_pred == y_test)\n",
    "total = len(y_test)\n",
    "accuracy = correct / total\n",
    "\n",
    "print(f\"Accuracy: {accuracy*100:.2f}%\")"
   ]
  }
 ],
 "metadata": {
  "kernelspec": {
   "display_name": "Python 3 (ipykernel)",
   "language": "python",
   "name": "python3"
  },
  "language_info": {
   "codemirror_mode": {
    "name": "ipython",
    "version": 3
   },
   "file_extension": ".py",
   "mimetype": "text/x-python",
   "name": "python",
   "nbconvert_exporter": "python",
   "pygments_lexer": "ipython3",
   "version": "3.10.18"
  }
 },
 "nbformat": 4,
 "nbformat_minor": 5
}
